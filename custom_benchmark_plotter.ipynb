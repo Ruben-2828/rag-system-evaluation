{
 "cells": [
  {
   "metadata": {},
   "cell_type": "markdown",
   "source": [
    "# Data Plots\n",
    "\n",
    "This notebook is designed to visualize the results of various configurations. It reads the results from CSV files, processes them, and generates plots to compare different metrics across configurations."
   ],
   "id": "4c8710a6fc0dc5e3"
  },
  {
   "metadata": {},
   "cell_type": "markdown",
   "source": [
    "# Imports and dependencies\n",
    "\n",
    "This section imports the required libraries for data manipulation and visualization."
   ],
   "id": "9ae946b55f0a4dbb"
  },
  {
   "cell_type": "code",
   "id": "78691453451a4a2c",
   "metadata": {
    "collapsed": true
   },
   "source": [
    "import os\n",
    "import pandas as pd\n",
    "import matplotlib.pyplot as plt\n",
    "import seaborn as sns"
   ],
   "outputs": [],
   "execution_count": null
  },
  {
   "metadata": {},
   "cell_type": "markdown",
   "source": [
    "# Input variables\n",
    "\n",
    "This section defines the base directory where the results are stored and if an llm model has been used during tests."
   ],
   "id": "e23905838cec8fae"
  },
  {
   "metadata": {},
   "cell_type": "code",
   "source": [
    "base_dir = \"output/generation/hardware_tests\"\n",
    "use_llm = False"
   ],
   "id": "ae4a3914e07ed658",
   "outputs": [],
   "execution_count": null
  },
  {
   "metadata": {},
   "cell_type": "markdown",
   "source": [
    "# Searching for files\n",
    "\n",
    "This section searches for all CSV files that contain results in the specified directory and its subdirectories. The files are expected to be named \"results.csv\"."
   ],
   "id": "cac870ae40fb5228"
  },
  {
   "metadata": {},
   "cell_type": "code",
   "source": [
    "results_files = []\n",
    "for root, dirs, files in os.walk(base_dir):\n",
    "    for file in files:\n",
    "        if file.endswith(\"results.csv\"):\n",
    "            results_files.append(os.path.join(root, file))"
   ],
   "id": "6bc750982ca5d5c3",
   "outputs": [],
   "execution_count": null
  },
  {
   "metadata": {},
   "cell_type": "markdown",
   "source": [
    "# Reading and processing the data\n",
    "\n",
    "This section reads each results file into a DataFrame, extracts the configuration name from the file path, and appends it to a list. Finally, it concatenates all DataFrames into a single DataFrame for further analysis."
   ],
   "id": "d1074ec364685cc9"
  },
  {
   "metadata": {},
   "cell_type": "code",
   "source": [
    "df_list = []\n",
    "for filepath in results_files:\n",
    "    config_name = os.path.basename(os.path.dirname(filepath))\n",
    "    df = pd.read_csv(filepath)\n",
    "    df[\"config\"] = config_name\n",
    "    df_list.append(df)\n",
    "    \n",
    "combined_df = pd.concat(df_list, ignore_index=True)"
   ],
   "id": "ede6cb71dcb7c1f7",
   "outputs": [],
   "execution_count": null
  },
  {
   "metadata": {},
   "cell_type": "markdown",
   "source": [
    "# Metrics to plot\n",
    "\n",
    "This section defines the metrics to be plotted based on whether an LLM model was used during the tests. If `use_llm` is set to `True`, additional metrics related to the LLM are included."
   ],
   "id": "3b143e2ef17dd517"
  },
  {
   "metadata": {},
   "cell_type": "code",
   "source": [
    "if use_llm:\n",
    "    metrics_to_plot = [\"rougeL\", \"rougeL_golden\", \"bleu\", \"bleu_golden\", \"longest_match\", \"longest_match_golden\"]\n",
    "else:\n",
    "    metrics_to_plot = [\"rougeL\", \"bleu\", \"longest_match\"]\n",
    "    \n",
    "mean_metrics = combined_df.groupby(\"config\")[metrics_to_plot].mean().reset_index()"
   ],
   "id": "201bf10d4b9cbf86",
   "outputs": [],
   "execution_count": null
  },
  {
   "metadata": {},
   "cell_type": "markdown",
   "source": [
    "# Plotting the metrics\n",
    "\n",
    "This section reshapes the DataFrame for plotting and generates a bar plot to compare the specified metrics across different configurations. The plot is saved as an image file."
   ],
   "id": "7ffa126c00f380e7"
  },
  {
   "metadata": {},
   "cell_type": "code",
   "source": [
    "long_df = mean_metrics.melt(id_vars=\"config\", var_name=\"Metrics\", value_name=\"value\")\n",
    "\n",
    "plt.figure(figsize=(12, 6))\n",
    "sns.barplot(data=long_df, x=\"config\", y=\"value\", hue=\"Metrics\")\n",
    "plt.xticks(rotation=45, ha=\"right\")\n",
    "plt.title(\"Metrics Comparison\")\n",
    "plt.tight_layout()\n",
    "plt.grid(True)\n",
    "\n",
    "\n",
    "file_name = os.path.split(base_dir)[-1]\n",
    "plt.savefig(os.path.join(base_dir, f\"{file_name}_plot.png\"))\n",
    "plt.show()"
   ],
   "id": "initial_id",
   "outputs": [],
   "execution_count": null
  }
 ],
 "metadata": {
  "kernelspec": {
   "display_name": "Python 3",
   "language": "python",
   "name": "python3"
  },
  "language_info": {
   "codemirror_mode": {
    "name": "ipython",
    "version": 2
   },
   "file_extension": ".py",
   "mimetype": "text/x-python",
   "name": "python",
   "nbconvert_exporter": "python",
   "pygments_lexer": "ipython2",
   "version": "2.7.6"
  }
 },
 "nbformat": 4,
 "nbformat_minor": 5
}
