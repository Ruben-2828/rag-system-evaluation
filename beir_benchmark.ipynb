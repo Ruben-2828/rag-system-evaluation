{
 "cells": [
  {
   "cell_type": "markdown",
   "source": [
    "# BEIR Benchmark Evaluation\n",
    "\n",
    "This notebook evaluate a BEIR benchmark dataset using a SentenceBERT model for dense retrieval."
   ],
   "metadata": {
    "collapsed": false
   },
   "id": "66e067cfbd36d29"
  },
  {
   "cell_type": "markdown",
   "source": [
    "## Setup and Initialization"
   ],
   "metadata": {
    "collapsed": false
   },
   "id": "c69bc7ee2d130fab"
  },
  {
   "cell_type": "markdown",
   "source": [
    "### Import Libraries\n",
    "\n",
    "Import the necessary libraries for data loading, model creation, retrieval, and evaluation."
   ],
   "metadata": {
    "collapsed": false
   },
   "id": "7246dd22fe357d9"
  },
  {
   "cell_type": "code",
   "id": "initial_id",
   "metadata": {
    "collapsed": true,
    "ExecuteTime": {
     "end_time": "2025-06-23T16:05:37.498903Z",
     "start_time": "2025-06-23T16:05:29.990070Z"
    }
   },
   "source": [
    "from datetime import datetime\n",
    "\n",
    "import pandas as pd\n",
    "from beir.datasets.data_loader import GenericDataLoader\n",
    "from beir.retrieval.models import SentenceBERT\n",
    "from beir.retrieval.search.dense import DenseRetrievalExactSearch as dres\n",
    "from beir.retrieval.evaluation import EvaluateRetrieval\n",
    "import json\n",
    "\n",
    "import os"
   ],
   "outputs": [
    {
     "name": "stderr",
     "output_type": "stream",
     "text": [
      "C:\\Users\\ruben\\OneDrive\\Desktop\\projects\\rag-system-evaluation\\.venv\\Lib\\site-packages\\beir\\datasets\\data_loader.py:8: TqdmExperimentalWarning: Using `tqdm.autonotebook.tqdm` in notebook mode. Use `tqdm.tqdm` instead to force console mode (e.g. in jupyter console)\n",
      "  from tqdm.autonotebook import tqdm\n"
     ]
    }
   ],
   "execution_count": 1
  },
  {
   "cell_type": "markdown",
   "source": [
    "### Load Configuration\n",
    "\n",
    "Loads the configuration file that contains the dataset name, model name, and other parameters for the evaluation."
   ],
   "metadata": {
    "collapsed": false
   },
   "id": "c42e4b2ba2c62f2e"
  },
  {
   "cell_type": "code",
   "source": [
    "config_file = \"configs/beir_benchmark_config.json\"\n",
    "\n",
    "with open(config_file, \"r\") as f:\n",
    "    config = json.load(f)"
   ],
   "metadata": {
    "collapsed": false,
    "ExecuteTime": {
     "end_time": "2025-06-23T16:05:37.503518Z",
     "start_time": "2025-06-23T16:05:37.498903Z"
    }
   },
   "id": "2dd100919068fbec",
   "outputs": [],
   "execution_count": 2
  },
  {
   "cell_type": "markdown",
   "source": [
    "## Evaluation"
   ],
   "metadata": {
    "collapsed": false
   },
   "id": "a906527752bc9743"
  },
  {
   "cell_type": "markdown",
   "source": [
    "### Load Dataset\n",
    "\n",
    "Loads a specified BEIR dataset for evaluation"
   ],
   "metadata": {
    "collapsed": false
   },
   "id": "86fa083b03f4fd13"
  },
  {
   "cell_type": "code",
   "source": [
    "dataset = config['dataset']\n",
    "data_path = config['datasets_folder']\n",
    "corpus, queries, qrels = GenericDataLoader(data_folder=os.path.join(data_path, dataset)).load(split=\"test\")"
   ],
   "metadata": {
    "collapsed": false,
    "ExecuteTime": {
     "end_time": "2025-06-23T16:05:37.602982Z",
     "start_time": "2025-06-23T16:05:37.505015Z"
    }
   },
   "id": "75a1ddd1cf00be7f",
   "outputs": [
    {
     "data": {
      "text/plain": [
       "  0%|          | 0/5183 [00:00<?, ?it/s]"
      ],
      "application/vnd.jupyter.widget-view+json": {
       "version_major": 2,
       "version_minor": 0,
       "model_id": "86d881d021b547dba927e67a0956e6a9"
      }
     },
     "metadata": {},
     "output_type": "display_data"
    }
   ],
   "execution_count": 3
  },
  {
   "cell_type": "markdown",
   "source": [
    "### Create the Embedding Model\n",
    "\n",
    "Creates a SentenceBERT model for dense retrieval using the specified model name from the configuration."
   ],
   "metadata": {
    "collapsed": false
   },
   "id": "e6dec8cc63fe2c6"
  },
  {
   "cell_type": "code",
   "source": [
    "model_name = config['model_name']\n",
    "sbert = SentenceBERT(model_name)\n",
    "retriever = EvaluateRetrieval(dres(sbert, batch_size=config['batch_size']), score_function=config['score_function'])\n"
   ],
   "metadata": {
    "collapsed": false,
    "ExecuteTime": {
     "end_time": "2025-06-23T16:05:40.551053Z",
     "start_time": "2025-06-23T16:05:37.602982Z"
    }
   },
   "id": "52e5b79b797616ac",
   "outputs": [],
   "execution_count": 4
  },
  {
   "cell_type": "markdown",
   "source": [
    "### Retrieve Documents\n",
    "\n",
    "This section retrieves documents for the queries in the dataset and evaluates the retrieval performance using specified metrics."
   ],
   "metadata": {
    "collapsed": false
   },
   "id": "eee9b1d3ec458c16"
  },
  {
   "cell_type": "code",
   "source": [
    "retrieved = retriever.retrieve(corpus, queries)"
   ],
   "metadata": {
    "collapsed": false,
    "ExecuteTime": {
     "end_time": "2025-06-23T16:08:06.712536Z",
     "start_time": "2025-06-23T16:05:40.552061Z"
    }
   },
   "id": "4d9883cda7870497",
   "outputs": [
    {
     "data": {
      "text/plain": [
       "Batches:   0%|          | 0/10 [00:00<?, ?it/s]"
      ],
      "application/vnd.jupyter.widget-view+json": {
       "version_major": 2,
       "version_minor": 0,
       "model_id": "dd056f2e449b47d3bc988b8c605a8b7e"
      }
     },
     "metadata": {},
     "output_type": "display_data"
    },
    {
     "data": {
      "text/plain": [
       "Batches:   0%|          | 0/162 [00:00<?, ?it/s]"
      ],
      "application/vnd.jupyter.widget-view+json": {
       "version_major": 2,
       "version_minor": 0,
       "model_id": "ef1b8c7b4d6d4e5eb462bce83ceb8661"
      }
     },
     "metadata": {},
     "output_type": "display_data"
    }
   ],
   "execution_count": 5
  },
  {
   "cell_type": "markdown",
   "source": [
    "### Validate the Retrieval\n",
    "\n",
    "Validates the retrieval results by checking if the retrieved documents match the expected query relevance judgments."
   ],
   "metadata": {
    "collapsed": false
   },
   "id": "e63251b7049a86b2"
  },
  {
   "cell_type": "code",
   "source": [
    "k_values = config['k_values']\n",
    "results = retriever.evaluate(qrels, retrieved, k_values=k_values)\n",
    "output_folder = config[\"output_folder\"]\n",
    "run_name = f\"run_beir_{datetime.now().strftime(\"%Y%m%d_%H%M%S\")}\"\n",
    "out_path = os.path.join(output_folder, run_name)\n",
    "os.makedirs(out_path, exist_ok=True)\n",
    "\n",
    "results_df = pd.DataFrame()\n",
    "results_df[\"k\"] = k_values\n",
    "\n",
    "for r in results:\n",
    "    metric = next(iter(r.keys()))\n",
    "    metric = metric.split(\"@\")[0]\n",
    "\n",
    "    values = r.values()\n",
    "\n",
    "    results_df[metric] = values"
   ],
   "metadata": {
    "collapsed": false,
    "ExecuteTime": {
     "end_time": "2025-06-23T16:17:42.123124Z",
     "start_time": "2025-06-23T16:17:41.995659Z"
    }
   },
   "id": "d8f992d819090f7a",
   "outputs": [],
   "execution_count": 9
  },
  {
   "cell_type": "markdown",
   "source": [
    "### Save Results\n",
    "\n",
    "Saves the evaluation results to a CSV file and the configuration used for the evaluation to a JSON file."
   ],
   "metadata": {
    "collapsed": false
   },
   "id": "a6c96b322252a1f6"
  },
  {
   "cell_type": "code",
   "source": [
    "file_path = os.path.join(out_path, f\"results.csv\")\n",
    "results_df.to_csv(file_path, index=False)\n",
    "\n",
    "with open(os.path.join(out_path, \"used_config.json\"), \"w\") as f:\n",
    "    json.dump(config, f, indent=4)"
   ],
   "metadata": {
    "collapsed": false,
    "ExecuteTime": {
     "end_time": "2025-06-23T16:17:45.106409Z",
     "start_time": "2025-06-23T16:17:45.101070Z"
    }
   },
   "id": "b1b009a148f1be49",
   "outputs": [],
   "execution_count": 10
  },
  {
   "metadata": {},
   "cell_type": "code",
   "outputs": [],
   "execution_count": null,
   "source": "",
   "id": "cf649e75f9da0ec1"
  }
 ],
 "metadata": {
  "kernelspec": {
   "display_name": "Python 3",
   "language": "python",
   "name": "python3"
  },
  "language_info": {
   "codemirror_mode": {
    "name": "ipython",
    "version": 2
   },
   "file_extension": ".py",
   "mimetype": "text/x-python",
   "name": "python",
   "nbconvert_exporter": "python",
   "pygments_lexer": "ipython2",
   "version": "2.7.6"
  }
 },
 "nbformat": 4,
 "nbformat_minor": 5
}
