{
 "cells": [
  {
   "cell_type": "markdown",
   "id": "15ea2d6b157ff1ff",
   "metadata": {
    "collapsed": false
   },
   "source": [
    "# BEIR Plots\n",
    "\n",
    "This notebook is designed to visualize the results of BEIR hardware tests. It reads the results from CSV files, processes them, and generates plots to compare different configurations based on various metrics."
   ]
  },
  {
   "cell_type": "markdown",
   "id": "134de87aff936d78",
   "metadata": {
    "collapsed": false
   },
   "source": [
    "# Imports and dependencies\n",
    "\n",
    "This section imports the required libraries for data manipulation and visualization."
   ]
  },
  {
   "cell_type": "code",
   "execution_count": null,
   "id": "initial_id",
   "metadata": {
    "ExecuteTime": {
     "end_time": "2025-07-02T16:34:37.019393Z",
     "start_time": "2025-07-02T16:34:36.161928Z"
    },
    "collapsed": true
   },
   "outputs": [],
   "source": [
    "import os\n",
    "import pandas as pd\n",
    "import matplotlib.pyplot as plt"
   ]
  },
  {
   "cell_type": "markdown",
   "id": "1664eec838803e7b",
   "metadata": {
    "collapsed": false
   },
   "source": [
    "# Input variables\n",
    "\n",
    "This section defines the base directory where the results are stored."
   ]
  },
  {
   "cell_type": "code",
   "execution_count": null,
   "id": "418ec2763d325460",
   "metadata": {
    "ExecuteTime": {
     "end_time": "2025-07-02T16:34:37.024746Z",
     "start_time": "2025-07-02T16:34:37.020912Z"
    },
    "collapsed": false
   },
   "outputs": [],
   "source": [
    "base_dir = \"output/retrieval/chunk/chunk_best\""
   ]
  },
  {
   "cell_type": "markdown",
   "id": "964fb2741573a4ce",
   "metadata": {
    "collapsed": false
   },
   "source": [
    "# Searching for files\n",
    "\n",
    "This section searches for all CSV files that contain results in the specified directory and its subdirectories. The files are expected to be named \"results.csv\"."
   ]
  },
  {
   "cell_type": "code",
   "execution_count": null,
   "id": "1aef2bf299360309",
   "metadata": {
    "ExecuteTime": {
     "end_time": "2025-07-02T16:34:37.033890Z",
     "start_time": "2025-07-02T16:34:37.025754Z"
    },
    "collapsed": false
   },
   "outputs": [],
   "source": [
    "run_dirs = {}\n",
    "for folder_name in os.listdir(base_dir):\n",
    "    folder_path = os.path.join(base_dir, folder_name)\n",
    "    results_path = os.path.join(folder_path, \"retrieval_metrics.csv\")\n",
    "    if os.path.isdir(folder_path) and os.path.isfile(results_path):\n",
    "        run_dirs[folder_name] = folder_name.replace(\"_\", \" \")"
   ]
  },
  {
   "cell_type": "markdown",
   "id": "26ee1338cc30d67b",
   "metadata": {
    "collapsed": false
   },
   "source": [
    "# Reading and processing the data\n",
    "\n",
    "This section reads each results file into a DataFrame, extracts the configuration name from the file path, and appends it to a list. Finally, it concatenates all DataFrames into a single DataFrame for further analysis."
   ]
  },
  {
   "cell_type": "code",
   "execution_count": null,
   "id": "13e987ee6d2c4b30",
   "metadata": {
    "ExecuteTime": {
     "end_time": "2025-07-02T16:34:37.059239Z",
     "start_time": "2025-07-02T16:34:37.034947Z"
    },
    "collapsed": false
   },
   "outputs": [],
   "source": [
    "all_results = []\n",
    "\n",
    "for folder_name, label in run_dirs.items():\n",
    "    file_path = os.path.join(base_dir, folder_name, \"retrieval_metrics.csv\")\n",
    "    df = pd.read_csv(file_path)\n",
    "    df[\"method\"] = label\n",
    "    all_results.append(df)\n",
    "    \n",
    "df_all = pd.concat(all_results, ignore_index=True)"
   ]
  },
  {
   "cell_type": "markdown",
   "id": "224f649304232fc5",
   "metadata": {
    "collapsed": false
   },
   "source": [
    "# Metrics to plot\n",
    "\n",
    "This section defines the metrics to be plotted."
   ]
  },
  {
   "cell_type": "code",
   "execution_count": null,
   "id": "ba301754d9be6c75",
   "metadata": {
    "ExecuteTime": {
     "end_time": "2025-07-02T16:34:37.064533Z",
     "start_time": "2025-07-02T16:34:37.060582Z"
    },
    "collapsed": false
   },
   "outputs": [],
   "source": [
    "metrics = [col for col in df_all.columns if col not in [\"k\", \"method\"]]"
   ]
  },
  {
   "cell_type": "markdown",
   "id": "7c08720d2e2888fc",
   "metadata": {
    "collapsed": false
   },
   "source": [
    "# Plotting the metrics\n",
    "\n",
    "This section reshapes the DataFrame for plotting and generates a plot to compare the specified metrics across different configurations. The plot is saved as an image file."
   ]
  },
  {
   "cell_type": "code",
   "execution_count": null,
   "id": "710f71eb3e01e004",
   "metadata": {
    "ExecuteTime": {
     "end_time": "2025-07-02T16:34:38.270751Z",
     "start_time": "2025-07-02T16:34:37.066019Z"
    },
    "collapsed": false
   },
   "outputs": [],
   "source": [
    "rows = (len(metrics) + 1) // 2\n",
    "fig, axes = plt.subplots(rows, 2, figsize=(14, 5 * rows))\n",
    "axes = axes.flatten()\n",
    "\n",
    "for i, metric in enumerate(metrics):\n",
    "    ax = axes[i]\n",
    "    for label in df_all[\"method\"].unique():\n",
    "        df_sub = df_all[df_all[\"method\"] == label]\n",
    "        ax.plot(df_sub[\"k\"], df_sub[metric], marker=\"o\", label=label)\n",
    "    ax.set_title(metric)\n",
    "    ax.set_xlabel(\"k\")\n",
    "    ax.set_ylabel(metric)\n",
    "    ax.legend()\n",
    "    ax.grid(True)\n",
    "    ax.set_xticks(\n",
    "        df_all[\"k\"].unique(),\n",
    "    )\n",
    "    \n",
    "for j in range(len(metrics), len(axes)):\n",
    "    axes[j].axis(\"off\")\n",
    "\n",
    "plt.tight_layout()\n",
    "\n",
    "file_name = os.path.split(base_dir)[-1]\n",
    "plt.savefig(os.path.join(base_dir, f\"{file_name}_plot.png\"), dpi=300)\n",
    "plt.show()"
   ]
  }
 ],
 "metadata": {
  "kernelspec": {
   "display_name": ".venv",
   "language": "python",
   "name": "python3"
  },
  "language_info": {
   "codemirror_mode": {
    "name": "ipython",
    "version": 3
   },
   "file_extension": ".py",
   "mimetype": "text/x-python",
   "name": "python",
   "nbconvert_exporter": "python",
   "pygments_lexer": "ipython3",
   "version": "3.12.3"
  }
 },
 "nbformat": 4,
 "nbformat_minor": 5
}
