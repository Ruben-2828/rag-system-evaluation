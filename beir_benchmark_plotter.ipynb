{
 "cells": [
  {
   "cell_type": "markdown",
   "source": [
    "# BEIR Plots\n",
    "\n",
    "This notebook is designed to visualize the results of BEIR hardware tests. It reads the results from CSV files, processes them, and generates plots to compare different configurations based on various metrics."
   ],
   "metadata": {
    "collapsed": false
   },
   "id": "15ea2d6b157ff1ff"
  },
  {
   "cell_type": "markdown",
   "source": [
    "# Imports and dependencies\n",
    "\n",
    "This section imports the required libraries for data manipulation and visualization."
   ],
   "metadata": {
    "collapsed": false
   },
   "id": "134de87aff936d78"
  },
  {
   "cell_type": "code",
   "id": "initial_id",
   "metadata": {
    "collapsed": true
   },
   "source": [
    "import os\n",
    "import pandas as pd\n",
    "import matplotlib.pyplot as plt"
   ],
   "outputs": [],
   "execution_count": null
  },
  {
   "cell_type": "markdown",
   "source": [
    "# Input variables\n",
    "\n",
    "This section defines the base directory where the results are stored."
   ],
   "metadata": {
    "collapsed": false
   },
   "id": "1664eec838803e7b"
  },
  {
   "cell_type": "code",
   "source": "base_dir = \"output/beir/hardware\"",
   "metadata": {
    "collapsed": false
   },
   "id": "418ec2763d325460",
   "outputs": [],
   "execution_count": null
  },
  {
   "cell_type": "markdown",
   "source": [
    "# Searching for files\n",
    "\n",
    "This section searches for all CSV files that contain results in the specified directory and its subdirectories. The files are expected to be named \"results.csv\"."
   ],
   "metadata": {
    "collapsed": false
   },
   "id": "964fb2741573a4ce"
  },
  {
   "cell_type": "code",
   "source": [
    "run_dirs = {}\n",
    "for folder_name in os.listdir(base_dir):\n",
    "    folder_path = os.path.join(base_dir, folder_name)\n",
    "    results_path = os.path.join(folder_path, \"results.csv\")\n",
    "    if os.path.isdir(folder_path) and os.path.isfile(results_path):\n",
    "        run_dirs[folder_name] = folder_name.replace(\"_\", \" \")"
   ],
   "metadata": {
    "collapsed": false
   },
   "id": "1aef2bf299360309",
   "outputs": [],
   "execution_count": null
  },
  {
   "cell_type": "markdown",
   "source": [
    "# Reading and processing the data\n",
    "\n",
    "This section reads each results file into a DataFrame, extracts the configuration name from the file path, and appends it to a list. Finally, it concatenates all DataFrames into a single DataFrame for further analysis."
   ],
   "metadata": {
    "collapsed": false
   },
   "id": "26ee1338cc30d67b"
  },
  {
   "cell_type": "code",
   "source": [
    "all_results = []\n",
    "\n",
    "for folder_name, label in run_dirs.items():\n",
    "    file_path = os.path.join(base_dir, folder_name, \"results.csv\")\n",
    "    df = pd.read_csv(file_path)\n",
    "    df[\"method\"] = label\n",
    "    all_results.append(df)\n",
    "    \n",
    "df_all = pd.concat(all_results, ignore_index=True)"
   ],
   "metadata": {
    "collapsed": false
   },
   "id": "13e987ee6d2c4b30",
   "outputs": [],
   "execution_count": null
  },
  {
   "cell_type": "markdown",
   "source": [
    "# Metrics to plot\n",
    "\n",
    "This section defines the metrics to be plotted."
   ],
   "metadata": {
    "collapsed": false
   },
   "id": "224f649304232fc5"
  },
  {
   "cell_type": "code",
   "source": "metrics = [col for col in df_all.columns if col not in [\"k\", \"method\"]]",
   "metadata": {
    "collapsed": false
   },
   "id": "ba301754d9be6c75",
   "outputs": [],
   "execution_count": null
  },
  {
   "cell_type": "markdown",
   "source": [
    "# Plotting the metrics\n",
    "\n",
    "This section reshapes the DataFrame for plotting and generates a plot to compare the specified metrics across different configurations. The plot is saved as an image file."
   ],
   "metadata": {
    "collapsed": false
   },
   "id": "7c08720d2e2888fc"
  },
  {
   "cell_type": "code",
   "source": [
    "rows = (len(metrics) + 1) // 2\n",
    "fig, axes = plt.subplots(rows, 2, figsize=(14, 5 * rows))\n",
    "axes = axes.flatten()\n",
    "\n",
    "for i, metric in enumerate(metrics):\n",
    "    ax = axes[i]\n",
    "    for label in df_all[\"method\"].unique():\n",
    "        df_sub = df_all[df_all[\"method\"] == label]\n",
    "        ax.plot(df_sub[\"k\"], df_sub[metric], marker=\"o\", label=label)\n",
    "    ax.set_title(metric)\n",
    "    ax.set_xlabel(\"k\")\n",
    "    ax.set_ylabel(metric)\n",
    "    ax.legend()\n",
    "    ax.grid(True)\n",
    "    ax.set_xticks(\n",
    "        df_all[\"k\"].unique(),\n",
    "    )\n",
    "    \n",
    "for j in range(len(metrics), len(axes)):\n",
    "    axes[j].axis(\"off\")\n",
    "\n",
    "plt.tight_layout()\n",
    "\n",
    "file_name = os.path.split(base_dir)[-1]\n",
    "plt.savefig(os.path.join(base_dir, f\"{file_name}_plot.png\"), dpi=300)\n",
    "plt.show()"
   ],
   "metadata": {
    "collapsed": false
   },
   "id": "710f71eb3e01e004",
   "outputs": [],
   "execution_count": null
  }
 ],
 "metadata": {
  "kernelspec": {
   "display_name": "Python 3",
   "language": "python",
   "name": "python3"
  },
  "language_info": {
   "codemirror_mode": {
    "name": "ipython",
    "version": 2
   },
   "file_extension": ".py",
   "mimetype": "text/x-python",
   "name": "python",
   "nbconvert_exporter": "python",
   "pygments_lexer": "ipython2",
   "version": "2.7.6"
  }
 },
 "nbformat": 4,
 "nbformat_minor": 5
}
